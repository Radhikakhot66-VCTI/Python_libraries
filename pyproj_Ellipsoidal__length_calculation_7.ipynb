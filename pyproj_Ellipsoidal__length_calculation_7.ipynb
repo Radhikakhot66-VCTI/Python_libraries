{
  "nbformat": 4,
  "nbformat_minor": 0,
  "metadata": {
    "colab": {
      "provenance": []
    },
    "kernelspec": {
      "name": "python3",
      "display_name": "Python 3"
    },
    "language_info": {
      "name": "python"
    }
  },
  "cells": [
    {
      "cell_type": "code",
      "execution_count": 1,
      "metadata": {
        "id": "UJqw1Vug5vh5"
      },
      "outputs": [],
      "source": [
        "import geopandas as gpd\n",
        "from pyproj import Geod\n",
        "from geopandas import clip\n",
        "from shapely.geometry import LineString, MultiLineString"
      ]
    },
    {
      "cell_type": "code",
      "source": [
        "import geopandas as gpd\n",
        "from pyproj import Geod\n",
        "import matplotlib.pyplot as plt\n",
        "\n",
        "# Load GeoJSON files\n",
        "\n",
        "network = gpd.read_file(\"/content/VCTI_abc_network 5 1.geojson\")\n",
        "soil = gpd.read_file(\"/content/soil_data_be 3.geojson\")\n",
        "\n",
        "\n",
        "\n"
      ],
      "metadata": {
        "id": "O1vth8EP6C80"
      },
      "execution_count": 10,
      "outputs": []
    },
    {
      "cell_type": "code",
      "source": [
        "pip install fiona"
      ],
      "metadata": {
        "colab": {
          "base_uri": "https://localhost:8080/"
        },
        "id": "XI9HiKmBNDBe",
        "outputId": "c12ae744-8a21-4cfe-e9ff-f752c65213b0"
      },
      "execution_count": 3,
      "outputs": [
        {
          "output_type": "stream",
          "name": "stdout",
          "text": [
            "Collecting fiona\n",
            "  Downloading fiona-1.10.1-cp311-cp311-manylinux_2_17_x86_64.manylinux2014_x86_64.whl.metadata (56 kB)\n",
            "\u001b[?25l     \u001b[90m━━━━━━━━━━━━━━━━━━━━━━━━━━━━━━━━━━━━━━━━\u001b[0m \u001b[32m0.0/56.6 kB\u001b[0m \u001b[31m?\u001b[0m eta \u001b[36m-:--:--\u001b[0m\r\u001b[2K     \u001b[90m━━━━━━━━━━━━━━━━━━━━━━━━━━━━━━━━━━━━━━━━\u001b[0m \u001b[32m56.6/56.6 kB\u001b[0m \u001b[31m2.4 MB/s\u001b[0m eta \u001b[36m0:00:00\u001b[0m\n",
            "\u001b[?25hRequirement already satisfied: attrs>=19.2.0 in /usr/local/lib/python3.11/dist-packages (from fiona) (25.3.0)\n",
            "Requirement already satisfied: certifi in /usr/local/lib/python3.11/dist-packages (from fiona) (2025.7.14)\n",
            "Requirement already satisfied: click~=8.0 in /usr/local/lib/python3.11/dist-packages (from fiona) (8.2.1)\n",
            "Collecting click-plugins>=1.0 (from fiona)\n",
            "  Downloading click_plugins-1.1.1.2-py2.py3-none-any.whl.metadata (6.5 kB)\n",
            "Collecting cligj>=0.5 (from fiona)\n",
            "  Downloading cligj-0.7.2-py3-none-any.whl.metadata (5.0 kB)\n",
            "Downloading fiona-1.10.1-cp311-cp311-manylinux_2_17_x86_64.manylinux2014_x86_64.whl (17.3 MB)\n",
            "\u001b[2K   \u001b[90m━━━━━━━━━━━━━━━━━━━━━━━━━━━━━━━━━━━━━━━━\u001b[0m \u001b[32m17.3/17.3 MB\u001b[0m \u001b[31m107.1 MB/s\u001b[0m eta \u001b[36m0:00:00\u001b[0m\n",
            "\u001b[?25hDownloading click_plugins-1.1.1.2-py2.py3-none-any.whl (11 kB)\n",
            "Downloading cligj-0.7.2-py3-none-any.whl (7.1 kB)\n",
            "Installing collected packages: cligj, click-plugins, fiona\n",
            "Successfully installed click-plugins-1.1.1.2 cligj-0.7.2 fiona-1.10.1\n"
          ]
        }
      ]
    },
    {
      "cell_type": "code",
      "source": [
        "# Reproject to lat/lon to ensure they are in same crs\n",
        "soil = soil.to_crs(\"EPSG:4326\")\n",
        "network = network.to_crs(\"EPSG:4326\")\n"
      ],
      "metadata": {
        "id": "YByzE-UP7CLt"
      },
      "execution_count": 11,
      "outputs": []
    },
    {
      "cell_type": "code",
      "source": [
        "\n",
        "from geopandas import clip\n",
        "\n",
        "network_clipped = gpd.clip(network, soil)\n"
      ],
      "metadata": {
        "id": "Bz3EEZ44OFCL"
      },
      "execution_count": 12,
      "outputs": []
    },
    {
      "cell_type": "code",
      "source": [
        "#Ellipsoidal length is the most accurate way to compute distances over the Earth’s surface using its ellipsoidal shape\n",
        "from pyproj import Geod\n",
        "\n",
        "# WGS84 ellipsoid (standard)\n",
        "geod = Geod(ellps=\"WGS84\")\n",
        "\n",
        "def compute_ellipsoidal_length(geom):\n",
        "    if geom.is_empty:\n",
        "        return 0\n",
        "    if geom.geom_type == 'MultiLineString':\n",
        "        return sum(geod.geometry_length(part) for part in geom.geoms)\n",
        "    elif geom.geom_type == 'LineString':\n",
        "        return geod.geometry_length(geom)\n",
        "    else:\n",
        "        return 0\n"
      ],
      "metadata": {
        "id": "SWhoNtgmNZEd"
      },
      "execution_count": 14,
      "outputs": []
    },
    {
      "cell_type": "code",
      "source": [
        "ellipsoidal_lengths = []\n",
        "\n",
        "for geom in network_clipped.geometry:\n",
        "    length = compute_ellipsoidal_length(geom)\n",
        "    ellipsoidal_lengths.append(length)\n",
        "\n",
        "network_clipped[\"ellipsoidal_length_m\"] = ellipsoidal_lengths"
      ],
      "metadata": {
        "id": "eSnaLy-HVM6b"
      },
      "execution_count": 15,
      "outputs": []
    },
    {
      "cell_type": "code",
      "source": [
        "print(network_clipped)"
      ],
      "metadata": {
        "colab": {
          "base_uri": "https://localhost:8080/"
        },
        "id": "bbDtpqpYWMDi",
        "outputId": "b200419b-bc8b-4411-d696-a573eb112d1e"
      },
      "execution_count": 25,
      "outputs": [
        {
          "output_type": "stream",
          "name": "stdout",
          "text": [
            "    id                                               icon           name  \\\n",
            "0   16  http://maps.google.com/mapfiles/kml/pushpin/yl...    SR-S19-Bore   \n",
            "1   15  http://maps.google.com/mapfiles/kml/pushpin/yl...      SR-S18-RR   \n",
            "2   14  http://maps.google.com/mapfiles/kml/pushpin/yl...   SR-S17-Water   \n",
            "3   13  http://maps.google.com/mapfiles/kml/pushpin/yl...    SR-S16-Bore   \n",
            "4   12  http://maps.google.com/mapfiles/kml/pushpin/yl...      SR-S15-HW   \n",
            "5   11  http://maps.google.com/mapfiles/kml/pushpin/yl...    SR-S14-Bore   \n",
            "6   10  http://maps.google.com/mapfiles/kml/pushpin/yl...  SR-S13-Trench   \n",
            "7    9  http://maps.google.com/mapfiles/kml/pushpin/yl...   SR-S12-Water   \n",
            "8    8  http://maps.google.com/mapfiles/kml/pushpin/yl...    SR-S11-Bore   \n",
            "9    7  http://maps.google.com/mapfiles/kml/pushpin/yl...   SR-S10-Water   \n",
            "10   6  http://maps.google.com/mapfiles/kml/pushpin/yl...    SR-S09-Bore   \n",
            "11   5  http://maps.google.com/mapfiles/kml/pushpin/yl...      SR-S08-RR   \n",
            "12   4  http://maps.google.com/mapfiles/kml/pushpin/yl...    SR-S07-Bore   \n",
            "13   3  http://maps.google.com/mapfiles/kml/pushpin/yl...   SR-S06-Water   \n",
            "14   2  http://maps.google.com/mapfiles/kml/pushpin/yl...    SR-S05-Bore   \n",
            "15   1  http://maps.google.com/mapfiles/kml/pushpin/yl...   SR-S04-Water   \n",
            "16   0  http://maps.google.com/mapfiles/kml/pushpin/yl...    SR-S03-Bore   \n",
            "\n",
            "     stroke              styleUrl styleHash  stroke-width  \\\n",
            "0   #0000ff  #msn_ylw-pushpin3730  641b3642             4   \n",
            "1   #0000ff  #msn_ylw-pushpin3730  641b3642             4   \n",
            "2   #0000ff  #msn_ylw-pushpin3730  641b3642             4   \n",
            "3   #0000ff  #msn_ylw-pushpin3730  641b3642             4   \n",
            "4   #0000ff  #msn_ylw-pushpin3730  641b3642             4   \n",
            "5   #0000ff  #msn_ylw-pushpin3730  641b3642             4   \n",
            "6   #0000ff  #msn_ylw-pushpin3730  641b3642             4   \n",
            "7   #0000ff  #msn_ylw-pushpin3730  641b3642             4   \n",
            "8   #0000ff  #msn_ylw-pushpin3730  641b3642             4   \n",
            "9   #0000ff  #msn_ylw-pushpin3730  641b3642             4   \n",
            "10  #0000ff  #msn_ylw-pushpin3730  641b3642             4   \n",
            "11  #0000ff  #msn_ylw-pushpin3730  641b3642             4   \n",
            "12  #0000ff  #msn_ylw-pushpin3730  641b3642             4   \n",
            "13  #0000ff  #msn_ylw-pushpin3730  641b3642             4   \n",
            "14  #0000ff  #msn_ylw-pushpin3730  641b3642             4   \n",
            "15  #0000ff  #msn_ylw-pushpin3730  641b3642             4   \n",
            "16  #0000ff  #msn_ylw-pushpin3730  641b3642             4   \n",
            "\n",
            "                                         styleMapHash  stroke-opacity  \\\n",
            "0   { \"normal\": \"#sn_ylw-pushpin0140\", \"highlight\"...               1   \n",
            "1   { \"normal\": \"#sn_ylw-pushpin0140\", \"highlight\"...               1   \n",
            "2   { \"normal\": \"#sn_ylw-pushpin0140\", \"highlight\"...               1   \n",
            "3   { \"normal\": \"#sn_ylw-pushpin0140\", \"highlight\"...               1   \n",
            "4   { \"normal\": \"#sn_ylw-pushpin0140\", \"highlight\"...               1   \n",
            "5   { \"normal\": \"#sn_ylw-pushpin0140\", \"highlight\"...               1   \n",
            "6   { \"normal\": \"#sn_ylw-pushpin0140\", \"highlight\"...               1   \n",
            "7   { \"normal\": \"#sn_ylw-pushpin0140\", \"highlight\"...               1   \n",
            "8   { \"normal\": \"#sn_ylw-pushpin0140\", \"highlight\"...               1   \n",
            "9   { \"normal\": \"#sn_ylw-pushpin0140\", \"highlight\"...               1   \n",
            "10  { \"normal\": \"#sn_ylw-pushpin0140\", \"highlight\"...               1   \n",
            "11  { \"normal\": \"#sn_ylw-pushpin0140\", \"highlight\"...               1   \n",
            "12  { \"normal\": \"#sn_ylw-pushpin0140\", \"highlight\"...               1   \n",
            "13  { \"normal\": \"#sn_ylw-pushpin0140\", \"highlight\"...               1   \n",
            "14  { \"normal\": \"#sn_ylw-pushpin0140\", \"highlight\"...               1   \n",
            "15  { \"normal\": \"#sn_ylw-pushpin0140\", \"highlight\"...               1   \n",
            "16  { \"normal\": \"#sn_ylw-pushpin0140\", \"highlight\"...               1   \n",
            "\n",
            "                                             geometry  ellipsoidal_length_m  \n",
            "0   LINESTRING (-74.85406 40.54956, -74.85514 40.5...           5707.926406  \n",
            "1   LINESTRING (-74.85315 40.55043, -74.85406 40.5...            123.688737  \n",
            "2   LINESTRING (-74.85225 40.55137, -74.85317 40.5...            131.451586  \n",
            "3   LINESTRING (-74.90736 40.6336, -74.90674 40.63...          11910.979025  \n",
            "4   LINESTRING (-74.9079 40.6342, -74.90736 40.63359)             81.769053  \n",
            "5   LINESTRING (-74.90958 40.63614, -74.9093 40.63...            259.658250  \n",
            "6   LINESTRING (-74.91095 40.63776, -74.91086 40.6...            219.409696  \n",
            "7   LINESTRING (-74.91135 40.63828, -74.91095 40.6...             66.592972  \n",
            "8   LINESTRING (-74.96765 40.71115, -74.96725 40.7...          10537.674611  \n",
            "9   LINESTRING (-74.96834 40.7119, -74.96808 40.71...            102.655464  \n",
            "10  LINESTRING (-74.97908 40.75394, -74.97903 40.7...           4823.681299  \n",
            "11  LINESTRING (-74.97912 40.75413, -74.97908 40.7...             21.338821  \n",
            "12  LINESTRING (-74.99896 40.75555, -74.99875 40.7...           2278.345432  \n",
            "13  LINESTRING (-74.9992 40.75582, -74.99896 40.75...             37.226992  \n",
            "14  LINESTRING (-75.08355 40.82932, -75.08162 40.8...          12434.777199  \n",
            "15  LINESTRING (-75.08606 40.82845, -75.08575 40.8...            232.473045  \n",
            "16  MULTILINESTRING ((-75.10581 40.89792, -75.1043...          11327.062633  \n"
          ]
        }
      ]
    },
    {
      "cell_type": "code",
      "source": [
        "network_clipped[\"ellipsoidal_length_m\"] = network_clipped.geometry.apply(compute_ellipsoidal_length)\n",
        "\n",
        "# View results\n",
        "print(network_clipped[[\"ellipsoidal_length_m\"]].head())\n"
      ],
      "metadata": {
        "colab": {
          "base_uri": "https://localhost:8080/"
        },
        "id": "jJ6X4-VoN8Vu",
        "outputId": "eec3a9b5-8e10-476a-9b02-903aed832ea6"
      },
      "execution_count": 20,
      "outputs": [
        {
          "output_type": "stream",
          "name": "stdout",
          "text": [
            "   ellipsoidal_length_m\n",
            "0           5707.926406\n",
            "1            123.688737\n",
            "2            131.451586\n",
            "3          11910.979025\n",
            "4             81.769053\n"
          ]
        }
      ]
    }
  ]
}