{
  "nbformat": 4,
  "nbformat_minor": 0,
  "metadata": {
    "colab": {
      "provenance": []
    },
    "kernelspec": {
      "name": "python3",
      "display_name": "Python 3"
    },
    "language_info": {
      "name": "python"
    }
  },
  "cells": [
    {
      "cell_type": "markdown",
      "source": [
        "**Shapely Geometry & Spatial Operations**"
      ],
      "metadata": {
        "id": "K68eOL_hQsur"
      }
    },
    {
      "cell_type": "code",
      "source": [
        "from shapely.geometry import Point\n",
        "\n",
        "p=Point(1,3)\n",
        "print(p.x,p.y)\n",
        "p\n"
      ],
      "metadata": {
        "colab": {
          "base_uri": "https://localhost:8080/",
          "height": 138
        },
        "id": "BfA1F15GREDt",
        "outputId": "e6a81205-538c-4e7c-80f5-cd2d6a4470db"
      },
      "execution_count": null,
      "outputs": [
        {
          "output_type": "stream",
          "name": "stdout",
          "text": [
            "1.0 3.0\n"
          ]
        },
        {
          "output_type": "execute_result",
          "data": {
            "text/plain": [
              "<POINT (1 3)>"
            ],
            "image/svg+xml": "<svg xmlns=\"http://www.w3.org/2000/svg\" xmlns:xlink=\"http://www.w3.org/1999/xlink\" width=\"100.0\" height=\"100.0\" viewBox=\"0.0 2.0 2.0 2.0\" preserveAspectRatio=\"xMinYMin meet\"><g transform=\"matrix(1,0,0,-1,0,6.0)\"><circle cx=\"1.0\" cy=\"3.0\" r=\"0.06\" stroke=\"#555555\" stroke-width=\"0.02\" fill=\"#66cc99\" opacity=\"0.6\" /></g></svg>"
          },
          "metadata": {},
          "execution_count": 1
        }
      ]
    },
    {
      "cell_type": "code",
      "source": [
        "from shapely.geometry import LineString\n",
        "l=LineString([(0,0),(1,1),(2,2)])\n",
        "print(l.length)\n",
        "l"
      ],
      "metadata": {
        "colab": {
          "base_uri": "https://localhost:8080/",
          "height": 138
        },
        "id": "fH09LnRWRJUg",
        "outputId": "9d4206ba-9569-4b02-a665-678d8ac16ced"
      },
      "execution_count": null,
      "outputs": [
        {
          "output_type": "stream",
          "name": "stdout",
          "text": [
            "2.8284271247461903\n"
          ]
        },
        {
          "output_type": "execute_result",
          "data": {
            "text/plain": [
              "<LINESTRING (0 0, 1 1, 2 2)>"
            ],
            "image/svg+xml": "<svg xmlns=\"http://www.w3.org/2000/svg\" xmlns:xlink=\"http://www.w3.org/1999/xlink\" width=\"100.0\" height=\"100.0\" viewBox=\"-0.08 -0.08 2.16 2.16\" preserveAspectRatio=\"xMinYMin meet\"><g transform=\"matrix(1,0,0,-1,0,2.0)\"><polyline fill=\"none\" stroke=\"#66cc99\" stroke-width=\"0.0432\" points=\"0.0,0.0 1.0,1.0 2.0,2.0\" opacity=\"0.8\" /></g></svg>"
          },
          "metadata": {},
          "execution_count": 2
        }
      ]
    },
    {
      "cell_type": "code",
      "source": [
        "#LinearRing\n",
        "# A closed loop line (start and end points are the same). Used internally to define polygon boundaries.\n",
        "from shapely.geometry import LinearRing\n",
        "\n",
        "ring = LinearRing([(0, 0), (1, 1), (1, 0), (0, 0)])\n",
        "ring"
      ],
      "metadata": {
        "colab": {
          "base_uri": "https://localhost:8080/",
          "height": 121
        },
        "id": "u71jxkieRO2e",
        "outputId": "16cb505c-baf5-4d86-99f3-f0c70e7c013f"
      },
      "execution_count": null,
      "outputs": [
        {
          "output_type": "execute_result",
          "data": {
            "text/plain": [
              "<LINEARRING (0 0, 1 1, 1 0, 0 0)>"
            ],
            "image/svg+xml": "<svg xmlns=\"http://www.w3.org/2000/svg\" xmlns:xlink=\"http://www.w3.org/1999/xlink\" width=\"100.0\" height=\"100.0\" viewBox=\"-0.04 -0.04 1.08 1.08\" preserveAspectRatio=\"xMinYMin meet\"><g transform=\"matrix(1,0,0,-1,0,1.0)\"><polyline fill=\"none\" stroke=\"#66cc99\" stroke-width=\"0.0216\" points=\"0.0,0.0 1.0,1.0 1.0,0.0 0.0,0.0\" opacity=\"0.8\" /></g></svg>"
          },
          "metadata": {},
          "execution_count": 3
        }
      ]
    },
    {
      "cell_type": "code",
      "source": [
        " #Polygon Represents an area enclosed by a boundary. Can also have holes.\n",
        "from shapely.geometry import Polygon\n",
        "\n",
        "poly=Polygon([(0,0),(1,0),(1,1),(0,1)])\n",
        "print(poly.area)\n",
        "poly"
      ],
      "metadata": {
        "colab": {
          "base_uri": "https://localhost:8080/",
          "height": 138
        },
        "id": "Lg4ljLqZRY9-",
        "outputId": "5bdaf0d4-d366-4b38-83ce-8daff3e4186a"
      },
      "execution_count": null,
      "outputs": [
        {
          "output_type": "stream",
          "name": "stdout",
          "text": [
            "1.0\n"
          ]
        },
        {
          "output_type": "execute_result",
          "data": {
            "text/plain": [
              "<POLYGON ((0 0, 1 0, 1 1, 0 1, 0 0))>"
            ],
            "image/svg+xml": "<svg xmlns=\"http://www.w3.org/2000/svg\" xmlns:xlink=\"http://www.w3.org/1999/xlink\" width=\"100.0\" height=\"100.0\" viewBox=\"-0.04 -0.04 1.08 1.08\" preserveAspectRatio=\"xMinYMin meet\"><g transform=\"matrix(1,0,0,-1,0,1.0)\"><path fill-rule=\"evenodd\" fill=\"#66cc99\" stroke=\"#555555\" stroke-width=\"0.0216\" opacity=\"0.6\" d=\"M 0.0,0.0 L 1.0,0.0 L 1.0,1.0 L 0.0,1.0 L 0.0,0.0 z\" /></g></svg>"
          },
          "metadata": {},
          "execution_count": 5
        }
      ]
    },
    {
      "cell_type": "code",
      "source": [
        "# With hole\n",
        "hole = Polygon(\n",
        "    shell=[(0, 0), (6, 0), (6, 6), (0, 6)],\n",
        "    holes=[[(2, 2), (4, 2), (4, 4), (2, 4)]]\n",
        ")\n",
        "print(hole.area)\n",
        "hole"
      ],
      "metadata": {
        "colab": {
          "base_uri": "https://localhost:8080/",
          "height": 138
        },
        "id": "NiSHIDoFRexF",
        "outputId": "1eaae877-72f2-4f78-b092-1e1625ce921c"
      },
      "execution_count": null,
      "outputs": [
        {
          "output_type": "stream",
          "name": "stdout",
          "text": [
            "32.0\n"
          ]
        },
        {
          "output_type": "execute_result",
          "data": {
            "text/plain": [
              "<POLYGON ((0 0, 6 0, 6 6, 0 6, 0 0), (2 2, 4 2, 4 4, 2 4, 2 2))>"
            ],
            "image/svg+xml": "<svg xmlns=\"http://www.w3.org/2000/svg\" xmlns:xlink=\"http://www.w3.org/1999/xlink\" width=\"100.0\" height=\"100.0\" viewBox=\"-0.24 -0.24 6.48 6.48\" preserveAspectRatio=\"xMinYMin meet\"><g transform=\"matrix(1,0,0,-1,0,6.0)\"><path fill-rule=\"evenodd\" fill=\"#66cc99\" stroke=\"#555555\" stroke-width=\"0.12960000000000002\" opacity=\"0.6\" d=\"M 0.0,0.0 L 6.0,0.0 L 6.0,6.0 L 0.0,6.0 L 0.0,0.0 z M 2.0,2.0 L 4.0,2.0 L 4.0,4.0 L 2.0,4.0 L 2.0,2.0 z\" /></g></svg>"
          },
          "metadata": {},
          "execution_count": 6
        }
      ]
    },
    {
      "cell_type": "code",
      "source": [
        "#MultiPoint A collection of points.\n",
        "\n",
        "from shapely.geometry import MultiPoint\n",
        "\n",
        "mp = MultiPoint([(1, 1), (2, 2), (3, 3)])\n",
        "mp"
      ],
      "metadata": {
        "colab": {
          "base_uri": "https://localhost:8080/",
          "height": 121
        },
        "id": "5aFUAt-ERlvm",
        "outputId": "b3e45464-3c84-48da-8897-1736da4a661d"
      },
      "execution_count": null,
      "outputs": [
        {
          "output_type": "execute_result",
          "data": {
            "text/plain": [
              "<MULTIPOINT ((1 1), (2 2), (3 3))>"
            ],
            "image/svg+xml": "<svg xmlns=\"http://www.w3.org/2000/svg\" xmlns:xlink=\"http://www.w3.org/1999/xlink\" width=\"100.0\" height=\"100.0\" viewBox=\"0.92 0.92 2.16 2.16\" preserveAspectRatio=\"xMinYMin meet\"><g transform=\"matrix(1,0,0,-1,0,4.0)\"><g><circle cx=\"1.0\" cy=\"1.0\" r=\"0.0648\" stroke=\"#555555\" stroke-width=\"0.0216\" fill=\"#66cc99\" opacity=\"0.6\" /><circle cx=\"2.0\" cy=\"2.0\" r=\"0.0648\" stroke=\"#555555\" stroke-width=\"0.0216\" fill=\"#66cc99\" opacity=\"0.6\" /><circle cx=\"3.0\" cy=\"3.0\" r=\"0.0648\" stroke=\"#555555\" stroke-width=\"0.0216\" fill=\"#66cc99\" opacity=\"0.6\" /></g></g></svg>"
          },
          "metadata": {},
          "execution_count": 7
        }
      ]
    },
    {
      "cell_type": "code",
      "source": [
        "import geopandas as gpd\n",
        "df_shapley =gpd.GeoSeries([p,l,mp,poly,ring])\n",
        "df_shapley"
      ],
      "metadata": {
        "colab": {
          "base_uri": "https://localhost:8080/",
          "height": 241
        },
        "id": "FmdkHRDdRui1",
        "outputId": "10da4bcf-4125-4ccd-e9c3-d8d9377225fb"
      },
      "execution_count": null,
      "outputs": [
        {
          "output_type": "execute_result",
          "data": {
            "text/plain": [
              "0                            POINT (1 3)\n",
              "1             LINESTRING (0 0, 1 1, 2 2)\n",
              "2       MULTIPOINT ((1 1), (2 2), (3 3))\n",
              "3    POLYGON ((0 0, 1 0, 1 1, 0 1, 0 0))\n",
              "4        LINEARRING (0 0, 1 1, 1 0, 0 0)\n",
              "dtype: geometry"
            ],
            "text/html": [
              "<div>\n",
              "<style scoped>\n",
              "    .dataframe tbody tr th:only-of-type {\n",
              "        vertical-align: middle;\n",
              "    }\n",
              "\n",
              "    .dataframe tbody tr th {\n",
              "        vertical-align: top;\n",
              "    }\n",
              "\n",
              "    .dataframe thead th {\n",
              "        text-align: right;\n",
              "    }\n",
              "</style>\n",
              "<table border=\"1\" class=\"dataframe\">\n",
              "  <thead>\n",
              "    <tr style=\"text-align: right;\">\n",
              "      <th></th>\n",
              "      <th>0</th>\n",
              "    </tr>\n",
              "  </thead>\n",
              "  <tbody>\n",
              "    <tr>\n",
              "      <th>0</th>\n",
              "      <td>POINT (1 3)</td>\n",
              "    </tr>\n",
              "    <tr>\n",
              "      <th>1</th>\n",
              "      <td>LINESTRING (0 0, 1 1, 2 2)</td>\n",
              "    </tr>\n",
              "    <tr>\n",
              "      <th>2</th>\n",
              "      <td>MULTIPOINT ((1 1), (2 2), (3 3))</td>\n",
              "    </tr>\n",
              "    <tr>\n",
              "      <th>3</th>\n",
              "      <td>POLYGON ((0 0, 1 0, 1 1, 0 1, 0 0))</td>\n",
              "    </tr>\n",
              "    <tr>\n",
              "      <th>4</th>\n",
              "      <td>LINEARRING (0 0, 1 1, 1 0, 0 0)</td>\n",
              "    </tr>\n",
              "  </tbody>\n",
              "</table>\n",
              "</div><br><label><b>dtype:</b> geometry</label>"
            ]
          },
          "metadata": {},
          "execution_count": 8
        }
      ]
    },
    {
      "cell_type": "code",
      "source": [
        "df_shapley.plot()"
      ],
      "metadata": {
        "colab": {
          "base_uri": "https://localhost:8080/",
          "height": 447
        },
        "id": "GRqKKnEQRz01",
        "outputId": "f4e7a008-13fb-4aa7-912f-fe2e2e8a74d5"
      },
      "execution_count": null,
      "outputs": [
        {
          "output_type": "execute_result",
          "data": {
            "text/plain": [
              "<Axes: >"
            ]
          },
          "metadata": {},
          "execution_count": 9
        },
        {
          "output_type": "display_data",
          "data": {
            "text/plain": [
              "<Figure size 640x480 with 1 Axes>"
            ],
            "image/png": "[encoded data removed]"
          },
          "metadata": {}
        }
      ]
    },
    {
      "cell_type": "code",
      "source": [
        "#Program to check whether Point exits in polygon or not using .contain\n",
        "#contains():Check if a geometry completely contains another.\n",
        "from shapely.geometry import Point, Polygon\n",
        "\n",
        "point1 = Point(1, 1)\n",
        "point2=Point(3,3)\n",
        "\n",
        "polygon = Polygon([(0, 0), (0, 2), (2, 2), (2, 0)])\n",
        "\n",
        "print(polygon.contains(point1))\n",
        "print(polygon.contains(point2))"
      ],
      "metadata": {
        "colab": {
          "base_uri": "https://localhost:8080/"
        },
        "id": "2h9JglqqSFiy",
        "outputId": "f4fb55ec-386b-4969-f55b-506966a84cb0"
      },
      "execution_count": null,
      "outputs": [
        {
          "output_type": "stream",
          "name": "stdout",
          "text": [
            "True\n",
            "False\n"
          ]
        }
      ]
    },
    {
      "cell_type": "code",
      "source": [
        "#within():Checks if one geometry is within another.\n",
        "print(\"Point is within Polygon:\", point1.within(polygon))\n",
        "print(\"Point is outside Polygon:\", point2.within(polygon))"
      ],
      "metadata": {
        "colab": {
          "base_uri": "https://localhost:8080/"
        },
        "id": "du3A2YAVT-PE",
        "outputId": "7e29c756-2050-445f-eeb2-5ac0d9829aee"
      },
      "execution_count": null,
      "outputs": [
        {
          "output_type": "stream",
          "name": "stdout",
          "text": [
            "Point is within Polygon: True\n",
            "Point is outside Polygon: False\n"
          ]
        }
      ]
    },
    {
      "cell_type": "code",
      "source": [
        "#buffer() – Create a region around a point/line/polygon\n",
        "from shapely.geometry import Point\n",
        "\n",
        "point = Point(3, 3)\n",
        "buffer_zone = point.buffer(1.0)  # 1 unit buffer radius\n",
        "\n",
        "print(buffer_zone)\n",
        "point"
      ],
      "metadata": {
        "colab": {
          "base_uri": "https://localhost:8080/",
          "height": 158
        },
        "id": "vrVEsu1QSTzq",
        "outputId": "7f338fbf-8708-4551-c362-92649e9ae0f6"
      },
      "execution_count": null,
      "outputs": [
        {
          "output_type": "stream",
          "name": "stdout",
          "text": [
            "POLYGON ((4 3, 3.995184726672197 2.9019828596704396, 3.9807852804032304 2.8049096779838716, 3.9569403357322086 2.7097153227455375, 3.923879532511287 2.6173165676349104, 3.881921264348355 2.5286032631740025, 3.8314696123025453 2.444429766980398, 3.773010453362737 2.3656067158363543, 3.7071067811865475 2.2928932188134525, 3.6343932841636457 2.226989546637263, 3.555570233019602 2.1685303876974547, 3.471396736825998 2.118078735651645, 3.3826834323650896 2.076120467488713, 3.2902846772544625 2.043059664267791, 3.1950903220161284 2.0192147195967696, 3.098017140329561 2.0048152733278033, 3 2, 2.9019828596704396 2.004815273327803, 2.804909677983872 2.0192147195967696, 2.709715322745538 2.043059664267791, 2.6173165676349104 2.076120467488713, 2.528603263174002 2.118078735651645, 2.444429766980398 2.1685303876974547, 2.3656067158363547 2.226989546637263, 2.2928932188134525 2.2928932188134525, 2.226989546637263 2.3656067158363543, 2.1685303876974547 2.444429766980398, 2.118078735651645 2.528603263174002, 2.076120467488713 2.61731656763491, 2.0430596642677914 2.7097153227455375, 2.0192147195967696 2.8049096779838716, 2.0048152733278033 2.901982859670439, 2 3, 2.004815273327803 3.0980171403295604, 2.0192147195967696 3.1950903220161284, 2.043059664267791 3.290284677254462, 2.076120467488713 3.3826834323650896, 2.118078735651645 3.4713967368259975, 2.1685303876974547 3.555570233019602, 2.226989546637263 3.6343932841636453, 2.292893218813452 3.7071067811865475, 2.3656067158363543 3.773010453362737, 2.444429766980398 3.8314696123025453, 2.528603263174002 3.881921264348355, 2.6173165676349095 3.9238795325112865, 2.7097153227455375 3.9569403357322086, 2.804909677983871 3.9807852804032304, 2.9019828596704396 3.995184726672197, 3 4, 3.09801714032956 3.995184726672197, 3.1950903220161284 3.9807852804032304, 3.290284677254462 3.956940335732209, 3.38268343236509 3.9238795325112865, 3.4713967368259975 3.881921264348355, 3.5555702330196017 3.8314696123025453, 3.6343932841636457 3.773010453362737, 3.7071067811865475 3.707106781186548, 3.773010453362737 3.6343932841636457, 3.8314696123025453 3.555570233019602, 3.881921264348355 3.471396736825998, 3.9238795325112865 3.3826834323650905, 3.9569403357322086 3.2902846772544625, 3.9807852804032304 3.195090322016129, 3.995184726672197 3.0980171403295604, 4 3))\n"
          ]
        },
        {
          "output_type": "execute_result",
          "data": {
            "text/plain": [
              "<POINT (3 3)>"
            ],
            "image/svg+xml": "<svg xmlns=\"http://www.w3.org/2000/svg\" xmlns:xlink=\"http://www.w3.org/1999/xlink\" width=\"100.0\" height=\"100.0\" viewBox=\"2.0 2.0 2.0 2.0\" preserveAspectRatio=\"xMinYMin meet\"><g transform=\"matrix(1,0,0,-1,0,6.0)\"><circle cx=\"3.0\" cy=\"3.0\" r=\"0.06\" stroke=\"#555555\" stroke-width=\"0.02\" fill=\"#66cc99\" opacity=\"0.6\" /></g></svg>"
          },
          "metadata": {},
          "execution_count": 11
        }
      ]
    },
    {
      "cell_type": "code",
      "source": [
        "buffer_zone"
      ],
      "metadata": {
        "colab": {
          "base_uri": "https://localhost:8080/",
          "height": 121
        },
        "id": "Le1bKNNkSaHB",
        "outputId": "6928251b-3713-457c-e74f-c16689c81f6b"
      },
      "execution_count": null,
      "outputs": [
        {
          "output_type": "execute_result",
          "data": {
            "text/plain": [
              "<POLYGON ((4 3, 3.995 2.902, 3.981 2.805, 3.957 2.71, 3.924 2.617, 3.882 2.5...>"
            ],
            "image/svg+xml": "<svg xmlns=\"http://www.w3.org/2000/svg\" xmlns:xlink=\"http://www.w3.org/1999/xlink\" width=\"100.0\" height=\"100.0\" viewBox=\"1.92 1.92 2.16 2.16\" preserveAspectRatio=\"xMinYMin meet\"><g transform=\"matrix(1,0,0,-1,0,6.0)\"><path fill-rule=\"evenodd\" fill=\"#66cc99\" stroke=\"#555555\" stroke-width=\"0.0432\" opacity=\"0.6\" d=\"M 4.0,3.0 L 3.995184726672197,2.9019828596704396 L 3.9807852804032304,2.8049096779838716 L 3.9569403357322086,2.7097153227455375 L 3.923879532511287,2.6173165676349104 L 3.881921264348355,2.5286032631740025 L 3.8314696123025453,2.444429766980398 L 3.773010453362737,2.3656067158363543 L 3.7071067811865475,2.2928932188134525 L 3.6343932841636457,2.226989546637263 L 3.555570233019602,2.1685303876974547 L 3.471396736825998,2.118078735651645 L 3.3826834323650896,2.076120467488713 L 3.2902846772544625,2.043059664267791 L 3.1950903220161284,2.0192147195967696 L 3.098017140329561,2.0048152733278033 L 3.0,2.0 L 2.9019828596704396,2.004815273327803 L 2.804909677983872,2.0192147195967696 L 2.709715322745538,2.043059664267791 L 2.6173165676349104,2.076120467488713 L 2.528603263174002,2.118078735651645 L 2.444429766980398,2.1685303876974547 L 2.3656067158363547,2.226989546637263 L 2.2928932188134525,2.2928932188134525 L 2.226989546637263,2.3656067158363543 L 2.1685303876974547,2.444429766980398 L 2.118078735651645,2.528603263174002 L 2.076120467488713,2.61731656763491 L 2.0430596642677914,2.7097153227455375 L 2.0192147195967696,2.8049096779838716 L 2.0048152733278033,2.901982859670439 L 2.0,3.0 L 2.004815273327803,3.0980171403295604 L 2.0192147195967696,3.1950903220161284 L 2.043059664267791,3.290284677254462 L 2.076120467488713,3.3826834323650896 L 2.118078735651645,3.4713967368259975 L 2.1685303876974547,3.555570233019602 L 2.226989546637263,3.6343932841636453 L 2.292893218813452,3.7071067811865475 L 2.3656067158363543,3.773010453362737 L 2.444429766980398,3.8314696123025453 L 2.528603263174002,3.881921264348355 L 2.6173165676349095,3.9238795325112865 L 2.7097153227455375,3.9569403357322086 L 2.804909677983871,3.9807852804032304 L 2.9019828596704396,3.995184726672197 L 3.0,4.0 L 3.09801714032956,3.995184726672197 L 3.1950903220161284,3.9807852804032304 L 3.290284677254462,3.956940335732209 L 3.38268343236509,3.9238795325112865 L 3.4713967368259975,3.881921264348355 L 3.5555702330196017,3.8314696123025453 L 3.6343932841636457,3.773010453362737 L 3.7071067811865475,3.707106781186548 L 3.773010453362737,3.6343932841636457 L 3.8314696123025453,3.555570233019602 L 3.881921264348355,3.471396736825998 L 3.9238795325112865,3.3826834323650905 L 3.9569403357322086,3.2902846772544625 L 3.9807852804032304,3.195090322016129 L 3.995184726672197,3.0980171403295604 L 4.0,3.0 z\" /></g></svg>"
          },
          "metadata": {},
          "execution_count": 12
        }
      ]
    },
    {
      "cell_type": "code",
      "source": [
        "from shapely.geometry import GeometryCollection\n",
        "geom_collection = GeometryCollection([p, l, poly])\n",
        "print(\"GeometryCollection:\", geom_collection)\n",
        "geom_collection"
      ],
      "metadata": {
        "colab": {
          "base_uri": "https://localhost:8080/",
          "height": 158
        },
        "id": "dw6yW86WSqpM",
        "outputId": "f3141412-89ef-4560-99cc-5daf1e8eeb44"
      },
      "execution_count": null,
      "outputs": [
        {
          "output_type": "stream",
          "name": "stdout",
          "text": [
            "GeometryCollection: GEOMETRYCOLLECTION (POINT (1 3), LINESTRING (0 0, 1 1, 2 2), POLYGON ((0 0, 1 0, 1 1, 0 1, 0 0)))\n"
          ]
        },
        {
          "output_type": "execute_result",
          "data": {
            "text/plain": [
              "<GEOMETRYCOLLECTION (POINT (1 3), LINESTRING (0 0, 1 1, 2 2), POLYGON ((0 0,...>"
            ],
            "image/svg+xml": "<svg xmlns=\"http://www.w3.org/2000/svg\" xmlns:xlink=\"http://www.w3.org/1999/xlink\" width=\"100.0\" height=\"100.0\" viewBox=\"-0.12 -0.12 2.24 3.24\" preserveAspectRatio=\"xMinYMin meet\"><g transform=\"matrix(1,0,0,-1,0,3.0)\"><g><circle cx=\"1.0\" cy=\"3.0\" r=\"0.09720000000000001\" stroke=\"#555555\" stroke-width=\"0.032400000000000005\" fill=\"#66cc99\" opacity=\"0.6\" /><polyline fill=\"none\" stroke=\"#66cc99\" stroke-width=\"0.06480000000000001\" points=\"0.0,0.0 1.0,1.0 2.0,2.0\" opacity=\"0.8\" /><path fill-rule=\"evenodd\" fill=\"#66cc99\" stroke=\"#555555\" stroke-width=\"0.06480000000000001\" opacity=\"0.6\" d=\"M 0.0,0.0 L 1.0,0.0 L 1.0,1.0 L 0.0,1.0 L 0.0,0.0 z\" /></g></g></svg>"
          },
          "metadata": {},
          "execution_count": 19
        }
      ]
    },
    {
      "cell_type": "code",
      "source": [
        "#distance():->Calculates the distance between two geometries.\n",
        "from shapely.geometry import Point\n",
        "\n",
        "point = Point(2,3)\n",
        "another_point = Point(4, 5)\n",
        "print(\"Distance:\", point.distance(another_point))"
      ],
      "metadata": {
        "colab": {
          "base_uri": "https://localhost:8080/"
        },
        "id": "p9tc3RC1cefI",
        "outputId": "5b519f15-82e9-4b23-9942-182380eb2816"
      },
      "execution_count": 29,
      "outputs": [
        {
          "output_type": "stream",
          "name": "stdout",
          "text": [
            "Distance: 2.8284271247461903\n"
          ]
        }
      ]
    },
    {
      "cell_type": "code",
      "source": [
        "#intersects()->checks if two geometries touch or overlap in any way.\n",
        "polygon2 = Polygon([(0, 0), (4, 0), (4, 3), (0, 3)])\n",
        "\n",
        "line2 = LineString([(0, 0), (5, 5)])\n",
        "print(\"Line intersects Polygon:\", line2.intersects(polygon2))\n",
        "\n"
      ],
      "metadata": {
        "colab": {
          "base_uri": "https://localhost:8080/"
        },
        "id": "r8ltBe3obUJI",
        "outputId": "953d79ab-698a-4a9b-99e9-6cc604d74897"
      },
      "execution_count": 30,
      "outputs": [
        {
          "output_type": "stream",
          "name": "stdout",
          "text": [
            "Line intersects Polygon: True\n"
          ]
        }
      ]
    },
    {
      "cell_type": "code",
      "source": [
        "import matplotlib.pyplot as plt\n",
        "# Plot\n",
        "fig, ax = plt.subplots()\n",
        "# Plot polygon\n",
        "x, y = polygon2.exterior.xy\n",
        "ax.fill(x, y, alpha=0.5, fc='lightblue', ec='blue', label='Polygon')\n",
        "\n",
        "# Plot line\n",
        "x_line, y_line = line2.xy\n",
        "ax.plot(x_line, y_line, color='red', linewidth=2, label='Line')\n",
        "\n",
        "# Customize plot\n",
        "ax.set_title(\"Intersection of Line and Polygon\")\n",
        "ax.legend()\n",
        "ax.set_aspect('equal')\n",
        "plt.grid(True)\n",
        "plt.show()\n"
      ],
      "metadata": {
        "colab": {
          "base_uri": "https://localhost:8080/",
          "height": 452
        },
        "id": "FjHFoxkPc-hW",
        "outputId": "25640fb7-49b7-4192-e71a-a8c130b3a44a"
      },
      "execution_count": 31,
      "outputs": [
        {
          "output_type": "display_data",
          "data": {
            "text/plain": [
              "<Figure size 640x480 with 1 Axes>"
            ],
            "image/png": "[encoded data removed]"
          },
          "metadata": {}
        }
      ]
    },
    {
      "cell_type": "code",
      "source": [
        "#Program to check whether Point exits in polygon or not using .contain\n",
        "from shapely.geometry import Point, Polygon\n",
        "\n",
        "# Define the park boundary (Polygon)\n",
        "park_boundary = Polygon([\n",
        "    (0, 0), (0, 10), (10, 10), (10, 0)\n",
        "])\n",
        "\n",
        "# Wildlife sightings as points\n",
        "sightings = [\n",
        "    Point(1, 1),\n",
        "    Point(12, 8),\n",
        "    Point(0, 0),     # on the boundary\n",
        "    Point(13,12)# on the corner\n",
        "]\n",
        "\n",
        "# Check which sightings are inside the park\n",
        "for i, sighting in enumerate(sightings):\n",
        "    if park_boundary.contains(sighting):\n",
        "        print(f\"Sighting {i+1} is INSIDE the park\")\n",
        "    else:\n",
        "        print(f\"Sighting {i+1} is OUTSIDE or ON the boundary\")\n",
        "#.contains() only returns True if the point is strictly inside (not on the boundary). To include boundary points, use .cove"
      ],
      "metadata": {
        "colab": {
          "base_uri": "https://localhost:8080/"
        },
        "id": "uR0otS0lfvjK",
        "outputId": "337d854c-6dfb-4da2-86be-59e5b12622e7"
      },
      "execution_count": 33,
      "outputs": [
        {
          "output_type": "stream",
          "name": "stdout",
          "text": [
            "Sighting 1 is INSIDE the park\n",
            "Sighting 2 is OUTSIDE or ON the boundary\n",
            "Sighting 3 is OUTSIDE or ON the boundary\n",
            "Sighting 4 is OUTSIDE or ON the boundary\n"
          ]
        }
      ]
    }
  ]
}